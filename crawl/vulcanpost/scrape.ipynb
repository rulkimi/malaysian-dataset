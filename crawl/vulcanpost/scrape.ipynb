{
 "cells": [
  {
   "cell_type": "code",
   "execution_count": 124,
   "metadata": {},
   "outputs": [],
   "source": [
    "from bs4 import BeautifulSoup\n",
    "from requests_html import HTMLSession\n",
    "import json\n",
    "import re"
   ]
  },
  {
   "cell_type": "code",
   "execution_count": 125,
   "metadata": {},
   "outputs": [],
   "source": [
    "session = HTMLSession()\n",
    "url = 'https://vulcanpost.com/my/'\n",
    "response = session.get(url)\n",
    "\n",
    "soup = BeautifulSoup(response.content, 'html.parser')"
   ]
  },
  {
   "cell_type": "code",
   "execution_count": 126,
   "metadata": {},
   "outputs": [
    {
     "name": "stdout",
     "output_type": "stream",
     "text": [
      "56\n"
     ]
    }
   ],
   "source": [
    "elements = soup.find_all(attrs={\"class\": [\"elementor-icon-box-title\", \"elementor-heading-title\"]})\n",
    "articles = []\n",
    "\n",
    "for element in elements:\n",
    "  url = element.find(\"a\")\n",
    "  if url is not None and url.get(\"href\") != 'https://vulcanpost.com/latest-stories/':\n",
    "    link = url.get(\"href\")\n",
    "    title = element.text.strip()\n",
    "\n",
    "    if re.match(r'^https://vulcanpost\\.com/\\d+/[\\w-]+/$', link):\n",
    "      title = element.text.strip()\n",
    "      articles.append({\n",
    "          \"url\": link,\n",
    "          \"title\": title\n",
    "      })\n",
    "      \n",
    "print(len(articles))"
   ]
  },
  {
   "cell_type": "code",
   "execution_count": 127,
   "metadata": {},
   "outputs": [
    {
     "name": "stdout",
     "output_type": "stream",
     "text": [
      "56\n"
     ]
    }
   ],
   "source": [
    "for article in articles:\n",
    "  response = session.get(article[\"url\"])\n",
    "  article_content = BeautifulSoup(response.content, 'html.parser')\n",
    "  texts = article_content.find(\"div\", attrs={\"class\": \"elementor-widget-theme-post-content\"})\n",
    "  if texts is not None:\n",
    "    p_elements = texts.find_all(\"p\")\n",
    "    body = []\n",
    "    for element in p_elements:\n",
    "      if element is not None:\n",
    "        body.append(element.text.strip())\n",
    "    article[\"body\"] = \" \".join(body)\n",
    "    \n",
    "print(len(articles))"
   ]
  },
  {
   "cell_type": "code",
   "execution_count": 128,
   "metadata": {},
   "outputs": [],
   "source": [
    "with open('vulcanpost-articles.json', 'w', encoding='utf-8') as json_file:\n",
    "  json.dump(articles, json_file, ensure_ascii=False, indent=4)"
   ]
  }
 ],
 "metadata": {
  "kernelspec": {
   "display_name": "Python 3",
   "language": "python",
   "name": "python3"
  },
  "language_info": {
   "codemirror_mode": {
    "name": "ipython",
    "version": 3
   },
   "file_extension": ".py",
   "mimetype": "text/x-python",
   "name": "python",
   "nbconvert_exporter": "python",
   "pygments_lexer": "ipython3",
   "version": "3.13.0"
  }
 },
 "nbformat": 4,
 "nbformat_minor": 2
}
