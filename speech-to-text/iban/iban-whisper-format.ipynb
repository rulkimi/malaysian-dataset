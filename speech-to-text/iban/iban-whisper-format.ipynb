{
 "cells": [
  {
   "cell_type": "code",
   "execution_count": 1,
   "id": "ddd38ad5",
   "metadata": {},
   "outputs": [
    {
     "name": "stderr",
     "output_type": "stream",
     "text": [
      "Special tokens have been added in the vocabulary, make sure the associated word embeddings are fine-tuned or trained.\n"
     ]
    }
   ],
   "source": [
    "import soundfile as sf\n",
    "from glob import glob\n",
    "from transformers import AutoTokenizer\n",
    "\n",
    "tokenizer = AutoTokenizer.from_pretrained('openai/whisper-large-v3')"
   ]
  },
  {
   "cell_type": "code",
   "execution_count": 2,
   "id": "a65cfa43",
   "metadata": {},
   "outputs": [],
   "source": [
    "timestamps = [i * 0.02 for i in range(1500 + 1)]"
   ]
  },
  {
   "cell_type": "code",
   "execution_count": 3,
   "id": "7f43e39b",
   "metadata": {},
   "outputs": [
    {
     "data": {
      "text/plain": [
       "['iban/data/train/train_text', 'iban/data/test/test_text']"
      ]
     },
     "execution_count": 3,
     "metadata": {},
     "output_type": "execute_result"
    }
   ],
   "source": [
    "from glob import glob\n",
    "\n",
    "files = glob('iban/**/*_text', recursive = True)\n",
    "files"
   ]
  },
  {
   "cell_type": "code",
   "execution_count": 8,
   "id": "0eb5035c",
   "metadata": {},
   "outputs": [
    {
     "name": "stdout",
     "output_type": "stream",
     "text": [
      "ibf_002_001  masjid al takwa di miri udah nerima agih belanja seratus ribu ringgit ari opis menteri anegi teknologi hijau enggau ai kena ngitu pemanah masjid nya  \r\n"
     ]
    }
   ],
   "source": [
    "!head -n 1 iban/data/train/train_text"
   ]
  },
  {
   "cell_type": "code",
   "execution_count": 39,
   "id": "7bc63d99",
   "metadata": {},
   "outputs": [],
   "source": [
    "!rm -rf iban-wav\n",
    "!mkdir iban-wav"
   ]
  },
  {
   "cell_type": "code",
   "execution_count": 16,
   "id": "8ca47722",
   "metadata": {
    "scrolled": true
   },
   "outputs": [
    {
     "data": {
      "text/plain": [
       "{'id': 'ibf_002_001',\n",
       " 'original': 'masjid al takwa di miri udah nerima agih belanja seratus ribu ringgit ari opis menteri anegi teknologi hijau enggau ai kena ngitu pemanah masjid nya  ',\n",
       " 'true_case': 'Masjid Al-Takwa di Miri udah nerima agih belanja seratus ribu ringgit ari opis Menteri Anegi Teknologi Hijau Enggau Ai kena ngitu pemanah masjid-nya.'}"
      ]
     },
     "execution_count": 16,
     "metadata": {},
     "output_type": "execute_result"
    }
   ],
   "source": [
    "import json\n",
    "\n",
    "with open('true-case.json') as fopen:\n",
    "    data = json.load(fopen)\n",
    "    \n",
    "data[0]"
   ]
  },
  {
   "cell_type": "code",
   "execution_count": 44,
   "id": "08e0d121",
   "metadata": {},
   "outputs": [
    {
     "name": "stderr",
     "output_type": "stream",
     "text": [
      "100%|██████████████████████████████████████| 3132/3132 [00:08<00:00, 350.34it/s]\n"
     ]
    }
   ],
   "source": [
    "import os\n",
    "import shutil\n",
    "from tqdm import tqdm\n",
    "\n",
    "filtered, rejected = [], []\n",
    "for i in tqdm(range(len(data))):\n",
    "    text = data[i]['true_case']\n",
    "    folder = '_'.join(data[i]['id'].split('_')[:-1])\n",
    "    old_filename = os.path.join('iban/data/wav/', folder, data[i]['id'] + '.wav')\n",
    "    \n",
    "    if not os.path.exists(old_filename):\n",
    "        rejected.append(data[i])\n",
    "        continue\n",
    "        \n",
    "    filename = os.path.join('iban-wav', data[i]['id'] + '.wav')\n",
    "    y, sr = sf.read(old_filename)\n",
    "    start = 0\n",
    "    end = len(y) / sr\n",
    "    if end >= 12:\n",
    "        continue\n",
    "    \n",
    "    start = min(timestamps, key=lambda t: abs(t - start))\n",
    "    end = min(timestamps, key=lambda t: abs(t - end))\n",
    "    t = f\"<|{start:.2f}|> {text}<|{end:.2f}|>\"\n",
    "    text = f\"<|startoftranscript|><|ms|><|transcribe|>{t}<|endoftext|>\"\n",
    "    \n",
    "    shutil.copyfile(old_filename, filename)\n",
    "    filtered.append({\n",
    "        'filename': filename,\n",
    "        'Y': text\n",
    "    })"
   ]
  },
  {
   "cell_type": "code",
   "execution_count": 45,
   "id": "b5f0b776",
   "metadata": {},
   "outputs": [
    {
     "data": {
      "text/plain": [
       "0"
      ]
     },
     "execution_count": 45,
     "metadata": {},
     "output_type": "execute_result"
    }
   ],
   "source": [
    "len(rejected)"
   ]
  },
  {
   "cell_type": "code",
   "execution_count": 46,
   "id": "749d4e0d",
   "metadata": {},
   "outputs": [
    {
     "data": {
      "text/plain": [
       "2200"
      ]
     },
     "execution_count": 46,
     "metadata": {},
     "output_type": "execute_result"
    }
   ],
   "source": [
    "len(filtered)"
   ]
  },
  {
   "cell_type": "code",
   "execution_count": 52,
   "id": "a2375a80",
   "metadata": {},
   "outputs": [
    {
     "data": {
      "text/plain": [
       "{'filename': 'iban-wav/ibm_008_099.wav',\n",
       " 'Y': '<|startoftranscript|><|ms|><|transcribe|><|0.00|> Salam Satu Malaysia.<|1.98|><|endoftext|>'}"
      ]
     },
     "execution_count": 52,
     "metadata": {},
     "output_type": "execute_result"
    }
   ],
   "source": [
    "filtered[-1]"
   ]
  },
  {
   "cell_type": "code",
   "execution_count": 53,
   "id": "c3c11b3e",
   "metadata": {},
   "outputs": [],
   "source": [
    "!zip -rq iban-wav.zip iban-wav"
   ]
  },
  {
   "cell_type": "code",
   "execution_count": 54,
   "id": "07cad58c",
   "metadata": {},
   "outputs": [
    {
     "data": {
      "application/vnd.jupyter.widget-view+json": {
       "model_id": "71ab0319dda64f7b95ee6d520b4e833e",
       "version_major": 2,
       "version_minor": 0
      },
      "text/plain": [
       "iban-wav.zip:   0%|          | 0.00/483M [00:00<?, ?B/s]"
      ]
     },
     "metadata": {},
     "output_type": "display_data"
    },
    {
     "data": {
      "text/plain": [
       "CommitInfo(commit_url='https://huggingface.co/datasets/malaysia-ai/iban-whisper-format/commit/7a15c5cf4d0cb1820713bc42ff5907b13bddb5d0', commit_message='Upload iban-wav.zip with huggingface_hub', commit_description='', oid='7a15c5cf4d0cb1820713bc42ff5907b13bddb5d0', pr_url=None, pr_revision=None, pr_num=None)"
      ]
     },
     "execution_count": 54,
     "metadata": {},
     "output_type": "execute_result"
    }
   ],
   "source": [
    "from huggingface_hub import HfApi\n",
    "api = HfApi()\n",
    "api.upload_file(\n",
    "    path_or_fileobj=\"iban-wav.zip\",\n",
    "    path_in_repo=\"iban-wav.zip\",\n",
    "    repo_id=\"malaysia-ai/iban-whisper-format\",\n",
    "    repo_type=\"dataset\",\n",
    ")"
   ]
  },
  {
   "cell_type": "code",
   "execution_count": 55,
   "id": "dd5f6b22",
   "metadata": {},
   "outputs": [],
   "source": [
    "with open('iban-dataset.json', 'w') as fopen:\n",
    "    json.dump(filtered, fopen)"
   ]
  }
 ],
 "metadata": {
  "kernelspec": {
   "display_name": "python3.10",
   "language": "python",
   "name": "python3.10"
  },
  "language_info": {
   "codemirror_mode": {
    "name": "ipython",
    "version": 3
   },
   "file_extension": ".py",
   "mimetype": "text/x-python",
   "name": "python",
   "nbconvert_exporter": "python",
   "pygments_lexer": "ipython3",
   "version": "3.10.15"
  }
 },
 "nbformat": 4,
 "nbformat_minor": 5
}
